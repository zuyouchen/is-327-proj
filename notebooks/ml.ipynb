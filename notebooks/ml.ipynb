{
 "cells": [
  {
   "attachments": {},
   "cell_type": "markdown",
   "metadata": {},
   "source": [
    "## EDA (Correlation Matrix)"
   ]
  },
  {
   "cell_type": "code",
   "execution_count": 159,
   "metadata": {},
   "outputs": [
    {
     "data": {
      "text/html": [
       "<div>\n",
       "<style scoped>\n",
       "    .dataframe tbody tr th:only-of-type {\n",
       "        vertical-align: middle;\n",
       "    }\n",
       "\n",
       "    .dataframe tbody tr th {\n",
       "        vertical-align: top;\n",
       "    }\n",
       "\n",
       "    .dataframe thead th {\n",
       "        text-align: right;\n",
       "    }\n",
       "</style>\n",
       "<table border=\"1\" class=\"dataframe\">\n",
       "  <thead>\n",
       "    <tr style=\"text-align: right;\">\n",
       "      <th></th>\n",
       "      <th>Player</th>\n",
       "      <th>salary</th>\n",
       "      <th>Season</th>\n",
       "      <th>Position</th>\n",
       "      <th>Age</th>\n",
       "      <th>Team</th>\n",
       "      <th>Games Played</th>\n",
       "      <th>Games Started</th>\n",
       "      <th>Minutes Played</th>\n",
       "      <th>Field Goals Made</th>\n",
       "      <th>...</th>\n",
       "      <th>Free Throw Percentage</th>\n",
       "      <th>Offensive Rebounds</th>\n",
       "      <th>Defensive Rebounds</th>\n",
       "      <th>Total Rebounds</th>\n",
       "      <th>Assists</th>\n",
       "      <th>Steals</th>\n",
       "      <th>Blocks</th>\n",
       "      <th>Turnovers</th>\n",
       "      <th>Personal Fouls</th>\n",
       "      <th>Points Scored</th>\n",
       "    </tr>\n",
       "  </thead>\n",
       "  <tbody>\n",
       "    <tr>\n",
       "      <th>0</th>\n",
       "      <td>Stephen Curry</td>\n",
       "      <td>45780966</td>\n",
       "      <td>2022</td>\n",
       "      <td>PG</td>\n",
       "      <td>33</td>\n",
       "      <td>GSW</td>\n",
       "      <td>64</td>\n",
       "      <td>64.0</td>\n",
       "      <td>2211.0</td>\n",
       "      <td>535</td>\n",
       "      <td>...</td>\n",
       "      <td>0.923</td>\n",
       "      <td>34.0</td>\n",
       "      <td>301.0</td>\n",
       "      <td>335.0</td>\n",
       "      <td>404</td>\n",
       "      <td>85.0</td>\n",
       "      <td>23.0</td>\n",
       "      <td>206.0</td>\n",
       "      <td>130</td>\n",
       "      <td>1630</td>\n",
       "    </tr>\n",
       "    <tr>\n",
       "      <th>1</th>\n",
       "      <td>James Harden</td>\n",
       "      <td>44310840</td>\n",
       "      <td>2022</td>\n",
       "      <td>PG</td>\n",
       "      <td>32</td>\n",
       "      <td>TOT</td>\n",
       "      <td>65</td>\n",
       "      <td>65.0</td>\n",
       "      <td>2419.0</td>\n",
       "      <td>407</td>\n",
       "      <td>...</td>\n",
       "      <td>0.877</td>\n",
       "      <td>55.0</td>\n",
       "      <td>445.0</td>\n",
       "      <td>500.0</td>\n",
       "      <td>667</td>\n",
       "      <td>82.0</td>\n",
       "      <td>36.0</td>\n",
       "      <td>284.0</td>\n",
       "      <td>153</td>\n",
       "      <td>1432</td>\n",
       "    </tr>\n",
       "    <tr>\n",
       "      <th>2</th>\n",
       "      <td>Russell Westbrook</td>\n",
       "      <td>44211146</td>\n",
       "      <td>2022</td>\n",
       "      <td>PG</td>\n",
       "      <td>33</td>\n",
       "      <td>LAL</td>\n",
       "      <td>78</td>\n",
       "      <td>78.0</td>\n",
       "      <td>2678.0</td>\n",
       "      <td>548</td>\n",
       "      <td>...</td>\n",
       "      <td>0.667</td>\n",
       "      <td>110.0</td>\n",
       "      <td>470.0</td>\n",
       "      <td>580.0</td>\n",
       "      <td>550</td>\n",
       "      <td>75.0</td>\n",
       "      <td>20.0</td>\n",
       "      <td>295.0</td>\n",
       "      <td>235</td>\n",
       "      <td>1441</td>\n",
       "    </tr>\n",
       "    <tr>\n",
       "      <th>3</th>\n",
       "      <td>Kevin Durant</td>\n",
       "      <td>42018900</td>\n",
       "      <td>2022</td>\n",
       "      <td>PF</td>\n",
       "      <td>33</td>\n",
       "      <td>BRK</td>\n",
       "      <td>55</td>\n",
       "      <td>55.0</td>\n",
       "      <td>2047.0</td>\n",
       "      <td>578</td>\n",
       "      <td>...</td>\n",
       "      <td>0.910</td>\n",
       "      <td>29.0</td>\n",
       "      <td>378.0</td>\n",
       "      <td>407.0</td>\n",
       "      <td>351</td>\n",
       "      <td>48.0</td>\n",
       "      <td>52.0</td>\n",
       "      <td>191.0</td>\n",
       "      <td>113</td>\n",
       "      <td>1643</td>\n",
       "    </tr>\n",
       "    <tr>\n",
       "      <th>4</th>\n",
       "      <td>LeBron James</td>\n",
       "      <td>41180544</td>\n",
       "      <td>2022</td>\n",
       "      <td>C</td>\n",
       "      <td>37</td>\n",
       "      <td>LAL</td>\n",
       "      <td>56</td>\n",
       "      <td>56.0</td>\n",
       "      <td>2084.0</td>\n",
       "      <td>640</td>\n",
       "      <td>...</td>\n",
       "      <td>0.756</td>\n",
       "      <td>63.0</td>\n",
       "      <td>396.0</td>\n",
       "      <td>459.0</td>\n",
       "      <td>349</td>\n",
       "      <td>73.0</td>\n",
       "      <td>59.0</td>\n",
       "      <td>196.0</td>\n",
       "      <td>121</td>\n",
       "      <td>1695</td>\n",
       "    </tr>\n",
       "    <tr>\n",
       "      <th>...</th>\n",
       "      <td>...</td>\n",
       "      <td>...</td>\n",
       "      <td>...</td>\n",
       "      <td>...</td>\n",
       "      <td>...</td>\n",
       "      <td>...</td>\n",
       "      <td>...</td>\n",
       "      <td>...</td>\n",
       "      <td>...</td>\n",
       "      <td>...</td>\n",
       "      <td>...</td>\n",
       "      <td>...</td>\n",
       "      <td>...</td>\n",
       "      <td>...</td>\n",
       "      <td>...</td>\n",
       "      <td>...</td>\n",
       "      <td>...</td>\n",
       "      <td>...</td>\n",
       "      <td>...</td>\n",
       "      <td>...</td>\n",
       "      <td>...</td>\n",
       "    </tr>\n",
       "    <tr>\n",
       "      <th>447</th>\n",
       "      <td>Micah Potter</td>\n",
       "      <td>53176</td>\n",
       "      <td>2022</td>\n",
       "      <td>C</td>\n",
       "      <td>23</td>\n",
       "      <td>DET</td>\n",
       "      <td>3</td>\n",
       "      <td>0.0</td>\n",
       "      <td>31.0</td>\n",
       "      <td>5</td>\n",
       "      <td>...</td>\n",
       "      <td>1.000</td>\n",
       "      <td>4.0</td>\n",
       "      <td>5.0</td>\n",
       "      <td>9.0</td>\n",
       "      <td>0</td>\n",
       "      <td>1.0</td>\n",
       "      <td>1.0</td>\n",
       "      <td>1.0</td>\n",
       "      <td>4</td>\n",
       "      <td>12</td>\n",
       "    </tr>\n",
       "    <tr>\n",
       "      <th>448</th>\n",
       "      <td>Cameron McGriff</td>\n",
       "      <td>53176</td>\n",
       "      <td>2022</td>\n",
       "      <td>SF</td>\n",
       "      <td>24</td>\n",
       "      <td>POR</td>\n",
       "      <td>3</td>\n",
       "      <td>0.0</td>\n",
       "      <td>46.0</td>\n",
       "      <td>5</td>\n",
       "      <td>...</td>\n",
       "      <td>1.000</td>\n",
       "      <td>6.0</td>\n",
       "      <td>9.0</td>\n",
       "      <td>15.0</td>\n",
       "      <td>3</td>\n",
       "      <td>0.0</td>\n",
       "      <td>1.0</td>\n",
       "      <td>0.0</td>\n",
       "      <td>7</td>\n",
       "      <td>14</td>\n",
       "    </tr>\n",
       "    <tr>\n",
       "      <th>449</th>\n",
       "      <td>Jordan Schakel</td>\n",
       "      <td>53176</td>\n",
       "      <td>2022</td>\n",
       "      <td>SG</td>\n",
       "      <td>23</td>\n",
       "      <td>WAS</td>\n",
       "      <td>4</td>\n",
       "      <td>0.0</td>\n",
       "      <td>30.0</td>\n",
       "      <td>1</td>\n",
       "      <td>...</td>\n",
       "      <td>1.000</td>\n",
       "      <td>2.0</td>\n",
       "      <td>6.0</td>\n",
       "      <td>8.0</td>\n",
       "      <td>0</td>\n",
       "      <td>1.0</td>\n",
       "      <td>0.0</td>\n",
       "      <td>1.0</td>\n",
       "      <td>0</td>\n",
       "      <td>5</td>\n",
       "    </tr>\n",
       "    <tr>\n",
       "      <th>450</th>\n",
       "      <td>Zavier Simpson</td>\n",
       "      <td>37223</td>\n",
       "      <td>2022</td>\n",
       "      <td>PG</td>\n",
       "      <td>24</td>\n",
       "      <td>OKC</td>\n",
       "      <td>4</td>\n",
       "      <td>4.0</td>\n",
       "      <td>174.0</td>\n",
       "      <td>19</td>\n",
       "      <td>...</td>\n",
       "      <td>1.000</td>\n",
       "      <td>2.0</td>\n",
       "      <td>19.0</td>\n",
       "      <td>21.0</td>\n",
       "      <td>30</td>\n",
       "      <td>5.0</td>\n",
       "      <td>4.0</td>\n",
       "      <td>10.0</td>\n",
       "      <td>15</td>\n",
       "      <td>44</td>\n",
       "    </tr>\n",
       "    <tr>\n",
       "      <th>451</th>\n",
       "      <td>Melvin Frazier</td>\n",
       "      <td>13294</td>\n",
       "      <td>2022</td>\n",
       "      <td>SG</td>\n",
       "      <td>25</td>\n",
       "      <td>OKC</td>\n",
       "      <td>3</td>\n",
       "      <td>0.0</td>\n",
       "      <td>120.0</td>\n",
       "      <td>13</td>\n",
       "      <td>...</td>\n",
       "      <td>0.714</td>\n",
       "      <td>5.0</td>\n",
       "      <td>8.0</td>\n",
       "      <td>13.0</td>\n",
       "      <td>1</td>\n",
       "      <td>1.0</td>\n",
       "      <td>0.0</td>\n",
       "      <td>3.0</td>\n",
       "      <td>8</td>\n",
       "      <td>32</td>\n",
       "    </tr>\n",
       "  </tbody>\n",
       "</table>\n",
       "<p>452 rows × 31 columns</p>\n",
       "</div>"
      ],
      "text/plain": [
       "                Player    salary  Season Position  Age Team  Games Played   \n",
       "0        Stephen Curry  45780966    2022       PG   33  GSW            64  \\\n",
       "1         James Harden  44310840    2022       PG   32  TOT            65   \n",
       "2    Russell Westbrook  44211146    2022       PG   33  LAL            78   \n",
       "3         Kevin Durant  42018900    2022       PF   33  BRK            55   \n",
       "4         LeBron James  41180544    2022        C   37  LAL            56   \n",
       "..                 ...       ...     ...      ...  ...  ...           ...   \n",
       "447       Micah Potter     53176    2022        C   23  DET             3   \n",
       "448    Cameron McGriff     53176    2022       SF   24  POR             3   \n",
       "449     Jordan Schakel     53176    2022       SG   23  WAS             4   \n",
       "450     Zavier Simpson     37223    2022       PG   24  OKC             4   \n",
       "451     Melvin Frazier     13294    2022       SG   25  OKC             3   \n",
       "\n",
       "     Games Started  Minutes Played  Field Goals Made  ...   \n",
       "0             64.0          2211.0               535  ...  \\\n",
       "1             65.0          2419.0               407  ...   \n",
       "2             78.0          2678.0               548  ...   \n",
       "3             55.0          2047.0               578  ...   \n",
       "4             56.0          2084.0               640  ...   \n",
       "..             ...             ...               ...  ...   \n",
       "447            0.0            31.0                 5  ...   \n",
       "448            0.0            46.0                 5  ...   \n",
       "449            0.0            30.0                 1  ...   \n",
       "450            4.0           174.0                19  ...   \n",
       "451            0.0           120.0                13  ...   \n",
       "\n",
       "     Free Throw Percentage  Offensive Rebounds  Defensive Rebounds   \n",
       "0                    0.923                34.0               301.0  \\\n",
       "1                    0.877                55.0               445.0   \n",
       "2                    0.667               110.0               470.0   \n",
       "3                    0.910                29.0               378.0   \n",
       "4                    0.756                63.0               396.0   \n",
       "..                     ...                 ...                 ...   \n",
       "447                  1.000                 4.0                 5.0   \n",
       "448                  1.000                 6.0                 9.0   \n",
       "449                  1.000                 2.0                 6.0   \n",
       "450                  1.000                 2.0                19.0   \n",
       "451                  0.714                 5.0                 8.0   \n",
       "\n",
       "     Total Rebounds  Assists  Steals  Blocks  Turnovers  Personal Fouls   \n",
       "0             335.0      404    85.0    23.0      206.0             130  \\\n",
       "1             500.0      667    82.0    36.0      284.0             153   \n",
       "2             580.0      550    75.0    20.0      295.0             235   \n",
       "3             407.0      351    48.0    52.0      191.0             113   \n",
       "4             459.0      349    73.0    59.0      196.0             121   \n",
       "..              ...      ...     ...     ...        ...             ...   \n",
       "447             9.0        0     1.0     1.0        1.0               4   \n",
       "448            15.0        3     0.0     1.0        0.0               7   \n",
       "449             8.0        0     1.0     0.0        1.0               0   \n",
       "450            21.0       30     5.0     4.0       10.0              15   \n",
       "451            13.0        1     1.0     0.0        3.0               8   \n",
       "\n",
       "     Points Scored  \n",
       "0             1630  \n",
       "1             1432  \n",
       "2             1441  \n",
       "3             1643  \n",
       "4             1695  \n",
       "..             ...  \n",
       "447             12  \n",
       "448             14  \n",
       "449              5  \n",
       "450             44  \n",
       "451             32  \n",
       "\n",
       "[452 rows x 31 columns]"
      ]
     },
     "execution_count": 159,
     "metadata": {},
     "output_type": "execute_result"
    }
   ],
   "source": [
    "# Importing the formatted data \n",
    "import pandas as pd\n",
    "df = pd.read_csv('../data/cleaned2021-2022.csv')\n",
    "\n",
    "df = df.dropna().reset_index(drop=True)\n",
    "df"
   ]
  },
  {
   "cell_type": "code",
   "execution_count": 160,
   "metadata": {},
   "outputs": [
    {
     "data": {
      "text/plain": [
       "['Player',\n",
       " 'salary',\n",
       " 'Season',\n",
       " 'Position',\n",
       " 'Age',\n",
       " 'Team',\n",
       " 'Games Played',\n",
       " 'Games Started',\n",
       " 'Minutes Played',\n",
       " 'Field Goals Made',\n",
       " 'Field Goals Attempted',\n",
       " 'Field Goals Percentage',\n",
       " 'Three Pointers Made',\n",
       " 'Three Pointers Attempted',\n",
       " 'Three Pointers Percentage',\n",
       " 'Two Pointers Made',\n",
       " 'Two Pointers Attempted',\n",
       " 'Two Pointers Percentage',\n",
       " 'Effective Field Goal Percentage',\n",
       " 'Free Throws Made',\n",
       " 'Free Throws Attempted',\n",
       " 'Free Throw Percentage',\n",
       " 'Offensive Rebounds',\n",
       " 'Defensive Rebounds',\n",
       " 'Total Rebounds',\n",
       " 'Assists',\n",
       " 'Steals',\n",
       " 'Blocks',\n",
       " 'Turnovers',\n",
       " 'Personal Fouls',\n",
       " 'Points Scored']"
      ]
     },
     "execution_count": 160,
     "metadata": {},
     "output_type": "execute_result"
    }
   ],
   "source": [
    "df.columns.to_list()"
   ]
  },
  {
   "cell_type": "code",
   "execution_count": 161,
   "metadata": {},
   "outputs": [],
   "source": [
    "# Doing EDA on some of the numerical features and our target predictor (salary)\n",
    "\n",
    "eda_columns = ['salary', 'Age', 'Games Played', 'Games Started', 'Minutes Played', 'Field Goals Made', 'Three Pointers Made', 'Two Pointers Made', 'Effective Field Goal Percentage','Free Throws Made', 'Offensive Rebounds', 'Defensive Rebounds', 'Assists', 'Blocks', 'Points Scored']\n",
    "df_eda = df[eda_columns]"
   ]
  },
  {
   "cell_type": "code",
   "execution_count": 162,
   "metadata": {},
   "outputs": [
    {
     "data": {
      "text/plain": [
       "<Axes: >"
      ]
     },
     "execution_count": 162,
     "metadata": {},
     "output_type": "execute_result"
    },
    {
     "data": {
      "image/png": "[encoded data removed]",
      "text/plain": [
       "<Figure size 720x720 with 2 Axes>"
      ]
     },
     "metadata": {
      "needs_background": "light"
     },
     "output_type": "display_data"
    }
   ],
   "source": [
    "# Plotting a heatmap of the correlation matrix of our eda_columns defined above\n",
    "\n",
    "import seaborn as sns \n",
    "import matplotlib.pyplot as plt \n",
    "\n",
    "plt.figure(figsize=(10,10))\n",
    "corr = df_eda.corr(numeric_only=True)\n",
    "sns.heatmap(corr, square=True)"
   ]
  },
  {
   "attachments": {},
   "cell_type": "markdown",
   "metadata": {},
   "source": [
    "## Linear Regression"
   ]
  },
  {
   "cell_type": "code",
   "execution_count": 163,
   "metadata": {},
   "outputs": [
    {
     "data": {
      "text/plain": [
       "['Season',\n",
       " 'Age',\n",
       " 'Games Played',\n",
       " 'Games Started',\n",
       " 'Minutes Played',\n",
       " 'Field Goals Made',\n",
       " 'Field Goals Attempted',\n",
       " 'Field Goals Percentage',\n",
       " 'Three Pointers Made',\n",
       " 'Three Pointers Attempted',\n",
       " 'Three Pointers Percentage',\n",
       " 'Two Pointers Made',\n",
       " 'Two Pointers Attempted',\n",
       " 'Two Pointers Percentage',\n",
       " 'Effective Field Goal Percentage',\n",
       " 'Free Throws Made',\n",
       " 'Free Throws Attempted',\n",
       " 'Free Throw Percentage',\n",
       " 'Offensive Rebounds',\n",
       " 'Defensive Rebounds',\n",
       " 'Total Rebounds',\n",
       " 'Assists',\n",
       " 'Steals',\n",
       " 'Blocks',\n",
       " 'Turnovers',\n",
       " 'Personal Fouls',\n",
       " 'Points Scored']"
      ]
     },
     "execution_count": 163,
     "metadata": {},
     "output_type": "execute_result"
    }
   ],
   "source": [
    "# Before we do regression, we need to find the numeric columns of our `df` (not including salary, our predictor)\n",
    "\n",
    "from pandas.api.types import is_numeric_dtype\n",
    "\n",
    "columns = df.columns.to_list()\n",
    "numerical_features = [col for col in columns if is_numeric_dtype(df[col]) and col != 'salary']\n",
    "numerical_features "
   ]
  },
  {
   "cell_type": "code",
   "execution_count": 164,
   "metadata": {},
   "outputs": [
    {
     "data": {
      "text/plain": [
       "{'fit_time': array([0.00501013, 0.00299859, 0.00299978, 0.00413752, 0.00400257,\n",
       "        0.00400043, 0.00400019, 0.00302052, 0.00400019, 0.00299954]),\n",
       " 'score_time': array([0.00199056, 0.00200057, 0.00300717, 0.00103974, 0.00199628,\n",
       "        0.0019989 , 0.00199914, 0.00197721, 0.00200009, 0.00200009]),\n",
       " 'estimator': [LinearRegression(),\n",
       "  LinearRegression(),\n",
       "  LinearRegression(),\n",
       "  LinearRegression(),\n",
       "  LinearRegression(),\n",
       "  LinearRegression(),\n",
       "  LinearRegression(),\n",
       "  LinearRegression(),\n",
       "  LinearRegression(),\n",
       "  LinearRegression()],\n",
       " 'test_score': array([0.50373802, 0.04516839, 0.5541336 , 0.53143344, 0.75888339,\n",
       "        0.58829366, 0.66649552, 0.78148222, 0.5578559 , 0.45215058]),\n",
       " 'train_score': array([0.64037271, 0.67014158, 0.63974086, 0.64560333, 0.62342457,\n",
       "        0.63720271, 0.62565411, 0.60631667, 0.64074795, 0.64461546])}"
      ]
     },
     "execution_count": 164,
     "metadata": {},
     "output_type": "execute_result"
    }
   ],
   "source": [
    "# We then train a linear regression model with 10 fold cross-validation, saving the r^2 scores and models\n",
    "from sklearn import linear_model, model_selection\n",
    "\n",
    "X = df[numerical_features]\n",
    "y = df.salary\n",
    "xval = model_selection.KFold(10, shuffle=True)\n",
    "model = linear_model.LinearRegression()\n",
    "results = model_selection.cross_validate(model, X, y, cv=xval, scoring='r2', return_train_score=True, return_estimator=True)\n",
    "results"
   ]
  },
  {
   "cell_type": "code",
   "execution_count": 165,
   "metadata": {},
   "outputs": [
    {
     "name": "stdout",
     "output_type": "stream",
     "text": [
      " Mean R^2 :  0.5439634719222548 \n",
      " R^2 SD :  0.19464908343061654 \n",
      " Mean Train R^2 :  0.6373819939146068\n"
     ]
    }
   ],
   "source": [
    "# Printing out some preliminary scoring statistics (mean R^2 performance on training / testing splits)\n",
    "train_r2 = results['train_score'].mean()\n",
    "train_r2_sd = results['train_score'].std()\n",
    "test_r2 = results['test_score'].mean()\n",
    "test_r2_sd = results['test_score'].std()\n",
    "\n",
    "print(' Mean R^2 : ', test_r2, '\\n', 'R^2 SD : ', test_r2_sd, '\\n', 'Mean Train R^2 : ', train_r2)"
   ]
  },
  {
   "cell_type": "code",
   "execution_count": 166,
   "metadata": {},
   "outputs": [
    {
     "name": "stdout",
     "output_type": "stream",
     "text": [
      "Best Train + Test Score Avg:  0.6938994435633687 (at index 8)\n"
     ]
    }
   ],
   "source": [
    "# Now, we want to iterate through the results and find the best model (using the metric of avg(train_score, test_score))\n",
    "\n",
    "best_score = 0\n",
    "best_idx = 0 \n",
    "for index, score in enumerate(results['test_score']):\n",
    "    train_test_score = (results['test_score'][index] + results['train_score'][index]) / 2 \n",
    "    if train_test_score > best_score:\n",
    "        best_score = train_test_score\n",
    "        best_idx = index \n",
    "\n",
    "print('Best Train + Test Score Avg: ', best_score, f'(at index {index - 1})') # enumerate() is zero-indexed, so we know it's at idx - 1 of estimators"
   ]
  },
  {
   "cell_type": "code",
   "execution_count": 167,
   "metadata": {},
   "outputs": [
    {
     "data": {
      "text/html": [
       "<style>#sk-container-id-4 {color: black;background-color: white;}#sk-container-id-4 pre{padding: 0;}#sk-container-id-4 div.sk-toggleable {background-color: white;}#sk-container-id-4 label.sk-toggleable__label {cursor: pointer;display: block;width: 100%;margin-bottom: 0;padding: 0.3em;box-sizing: border-box;text-align: center;}#sk-container-id-4 label.sk-toggleable__label-arrow:before {content: \"▸\";float: left;margin-right: 0.25em;color: #696969;}#sk-container-id-4 label.sk-toggleable__label-arrow:hover:before {color: black;}#sk-container-id-4 div.sk-estimator:hover label.sk-toggleable__label-arrow:before {color: black;}#sk-container-id-4 div.sk-toggleable__content {max-height: 0;max-width: 0;overflow: hidden;text-align: left;background-color: #f0f8ff;}#sk-container-id-4 div.sk-toggleable__content pre {margin: 0.2em;color: black;border-radius: 0.25em;background-color: #f0f8ff;}#sk-container-id-4 input.sk-toggleable__control:checked~div.sk-toggleable__content {max-height: 200px;max-width: 100%;overflow: auto;}#sk-container-id-4 input.sk-toggleable__control:checked~label.sk-toggleable__label-arrow:before {content: \"▾\";}#sk-container-id-4 div.sk-estimator input.sk-toggleable__control:checked~label.sk-toggleable__label {background-color: #d4ebff;}#sk-container-id-4 div.sk-label input.sk-toggleable__control:checked~label.sk-toggleable__label {background-color: #d4ebff;}#sk-container-id-4 input.sk-hidden--visually {border: 0;clip: rect(1px 1px 1px 1px);clip: rect(1px, 1px, 1px, 1px);height: 1px;margin: -1px;overflow: hidden;padding: 0;position: absolute;width: 1px;}#sk-container-id-4 div.sk-estimator {font-family: monospace;background-color: #f0f8ff;border: 1px dotted black;border-radius: 0.25em;box-sizing: border-box;margin-bottom: 0.5em;}#sk-container-id-4 div.sk-estimator:hover {background-color: #d4ebff;}#sk-container-id-4 div.sk-parallel-item::after {content: \"\";width: 100%;border-bottom: 1px solid gray;flex-grow: 1;}#sk-container-id-4 div.sk-label:hover label.sk-toggleable__label {background-color: #d4ebff;}#sk-container-id-4 div.sk-serial::before {content: \"\";position: absolute;border-left: 1px solid gray;box-sizing: border-box;top: 0;bottom: 0;left: 50%;z-index: 0;}#sk-container-id-4 div.sk-serial {display: flex;flex-direction: column;align-items: center;background-color: white;padding-right: 0.2em;padding-left: 0.2em;position: relative;}#sk-container-id-4 div.sk-item {position: relative;z-index: 1;}#sk-container-id-4 div.sk-parallel {display: flex;align-items: stretch;justify-content: center;background-color: white;position: relative;}#sk-container-id-4 div.sk-item::before, #sk-container-id-4 div.sk-parallel-item::before {content: \"\";position: absolute;border-left: 1px solid gray;box-sizing: border-box;top: 0;bottom: 0;left: 50%;z-index: -1;}#sk-container-id-4 div.sk-parallel-item {display: flex;flex-direction: column;z-index: 1;position: relative;background-color: white;}#sk-container-id-4 div.sk-parallel-item:first-child::after {align-self: flex-end;width: 50%;}#sk-container-id-4 div.sk-parallel-item:last-child::after {align-self: flex-start;width: 50%;}#sk-container-id-4 div.sk-parallel-item:only-child::after {width: 0;}#sk-container-id-4 div.sk-dashed-wrapped {border: 1px dashed gray;margin: 0 0.4em 0.5em 0.4em;box-sizing: border-box;padding-bottom: 0.4em;background-color: white;}#sk-container-id-4 div.sk-label label {font-family: monospace;font-weight: bold;display: inline-block;line-height: 1.2em;}#sk-container-id-4 div.sk-label-container {text-align: center;}#sk-container-id-4 div.sk-container {/* jupyter's `normalize.less` sets `[hidden] { display: none; }` but bootstrap.min.css set `[hidden] { display: none !important; }` so we also need the `!important` here to be able to override the default hidden behavior on the sphinx rendered scikit-learn.org. See: https://github.com/scikit-learn/scikit-learn/issues/21755 */display: inline-block !important;position: relative;}#sk-container-id-4 div.sk-text-repr-fallback {display: none;}</style><div id=\"sk-container-id-4\" class=\"sk-top-container\"><div class=\"sk-text-repr-fallback\"><pre>LinearRegression()</pre><b>In a Jupyter environment, please rerun this cell to show the HTML representation or trust the notebook. <br />On GitHub, the HTML representation is unable to render, please try loading this page with nbviewer.org.</b></div><div class=\"sk-container\" hidden><div class=\"sk-item\"><div class=\"sk-estimator sk-toggleable\"><input class=\"sk-toggleable__control sk-hidden--visually\" id=\"sk-estimator-id-4\" type=\"checkbox\" checked><label for=\"sk-estimator-id-4\" class=\"sk-toggleable__label sk-toggleable__label-arrow\">LinearRegression</label><div class=\"sk-toggleable__content\"><pre>LinearRegression()</pre></div></div></div></div></div>"
      ],
      "text/plain": [
       "LinearRegression()"
      ]
     },
     "execution_count": 167,
     "metadata": {},
     "output_type": "execute_result"
    }
   ],
   "source": [
    "# Saving our best model \n",
    "\n",
    "best_linear_model = results['estimator'][index - 1]\n",
    "best_linear_model "
   ]
  },
  {
   "cell_type": "code",
   "execution_count": 168,
   "metadata": {},
   "outputs": [],
   "source": [
    "# Adding a prediction using our best model\n",
    "\n",
    "df['salary_prediction'] = best_linear_model.predict(df[numerical_features])"
   ]
  },
  {
   "cell_type": "code",
   "execution_count": 169,
   "metadata": {},
   "outputs": [
    {
     "data": {
      "text/plain": [
       "Text(0, 0.5, 'Predicted Salary')"
      ]
     },
     "execution_count": 169,
     "metadata": {},
     "output_type": "execute_result"
    },
    {
     "data": {
      "image/png": "[encoded data removed]",
      "text/plain": [
       "<Figure size 900x600 with 1 Axes>"
      ]
     },
     "metadata": {
      "needs_background": "light"
     },
     "output_type": "display_data"
    }
   ],
   "source": [
    "# Visualizing our best model predictions versus observed values of salary\n",
    "\n",
    "import matplotlib.pyplot as plt \n",
    "\n",
    "plt.figure(dpi=150)\n",
    "plt.scatter(df.salary, df.salary_prediction)\n",
    "plt.plot([0, 5e7], [0, 5e7], color='red')\n",
    "plt.xlabel('True Salary')\n",
    "plt.ylabel('Predicted Salary')"
   ]
  },
  {
   "cell_type": "code",
   "execution_count": 170,
   "metadata": {},
   "outputs": [
    {
     "name": "stdout",
     "output_type": "stream",
     "text": [
      "Model Estimated Salary for Curry:  $32,132,352.44\n",
      "Model Estimated Salary for LeBron:  $36,560,934.46\n",
      "Model Estimated Salary for Giannis:  $41,421,969.96\n",
      "Model Estimated Salary for Kyrie:  $15,016,841.70\n",
      "Model Estimated Salary for Deebo:  $27,910,718.44\n",
      "Model Estimated Salary for Lavine:  $22,722,603.13\n"
     ]
    }
   ],
   "source": [
    "# We can observe the model's prediction of some well-known NBA players\n",
    "\n",
    "def num_to_cash(num):\n",
    "    return '${:,.2f}'.format(num)\n",
    "\n",
    "curry = df[df.Player == 'Stephen Curry']\n",
    "lebron = df[df.Player == 'LeBron James']\n",
    "giannis = df[df.Player == 'Giannis Antetokounmpo']\n",
    "kyrie = df[df.Player == 'Kyrie Irving']\n",
    "derozan = df[df.Player == 'DeMar DeRozan']\n",
    "lavine = df[df.Player == 'Zach LaVine']\n",
    "\n",
    "print('Model Estimated Salary for Curry: ', num_to_cash(best_linear_model.predict(curry[numerical_features])[0]))\n",
    "print('Model Estimated Salary for LeBron: ', num_to_cash(best_linear_model.predict(lebron[numerical_features])[0]))\n",
    "print('Model Estimated Salary for Giannis: ', num_to_cash(best_linear_model.predict(giannis[numerical_features])[0]))\n",
    "print('Model Estimated Salary for Kyrie: ', num_to_cash(best_linear_model.predict(kyrie[numerical_features])[0]))\n",
    "print('Model Estimated Salary for Deebo: ', num_to_cash(best_linear_model.predict(derozan[numerical_features])[0]))\n",
    "print('Model Estimated Salary for Lavine: ', num_to_cash(best_linear_model.predict(lavine[numerical_features])[0]))\n"
   ]
  },
  {
   "attachments": {},
   "cell_type": "markdown",
   "metadata": {},
   "source": [
    "## Clustering"
   ]
  }
 ],
 "metadata": {
  "kernelspec": {
   "display_name": "Python 3",
   "language": "python",
   "name": "python3"
  },
  "language_info": {
   "codemirror_mode": {
    "name": "ipython",
    "version": 3
   },
   "file_extension": ".py",
   "mimetype": "text/x-python",
   "name": "python",
   "nbconvert_exporter": "python",
   "pygments_lexer": "ipython3",
   "version": "3.10.9"
  },
  "orig_nbformat": 4
 },
 "nbformat": 4,
 "nbformat_minor": 2
}
